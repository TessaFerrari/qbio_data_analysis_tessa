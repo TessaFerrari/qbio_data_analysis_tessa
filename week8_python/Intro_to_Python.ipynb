{
 "cells": [
  {
   "cell_type": "markdown",
   "id": "d519537c",
   "metadata": {},
   "source": [
    "# Deliverables\n",
    "Before turning in the tutorial, do the following to make sure your code works properly:\n",
    "1. Uncomment the `assert` statements at the end of the exercises.\n",
    "2. Restart the kernel (Kernel > Restart & Run All).\n",
    "4. Make sure that you pass the `assert` statements at the end of each exercise. \n",
    "\n",
    "As usual, turn in the tutorial by GitHub!\n",
    "\n",
    "# Introduction\n",
    "Welcome to the Intro to Python tutorial! We'll be going over the nuts-and-bolts of the language, as well as some parts of the language especially useful for scientific programming. If you're already familiar with Python, you can skip the basics, and follow along in this jupyter notebook!\n",
    "\n",
    "To run code in the Jupyter Notebook, you can click on the Run button (on the top header part), or type CTRL+Enter/CMD+Enter (for Macs/Windows, respectively). It will run the entire block of code -- there is no way to run a single line at a time.\n",
    "\n",
    "\n",
    "# The Basics\n",
    "Python is much more similar to a \"normal\" programming language (e.g. C++, Java) than R, so if you're gone through the core CS courses you're probably going to be a lot more comfortable with Python. Here's a quick runthrough of the syntax used to implement \"standard\" programming procedures. Basically, Python tries to make things as easy as possible -- if something looks like it should work, it'll probably work.\n",
    "\n",
    "## Unique Python Syntax: Indentation\n",
    "In the other programming languages you've used before, such as R, you have defined code blocks using curly braces. Python is completely different, in that it uses **indentation** to demark a new code block. You'll see this in the looping, control flow, and function parts of the guide. This means that Python forces you to maintain nicely readable code.\n",
    "\n",
    "\n",
    "\n",
    "## Defining Variables\n",
    "There's nothing particularly interesting for defining a variable; just use the equals sign. Like R, you can't declare a variable as a specific type as you do in C++."
   ]
  },
  {
   "cell_type": "code",
   "execution_count": 1,
   "id": "cd0f60de",
   "metadata": {},
   "outputs": [
    {
     "data": {
      "text/plain": [
       "3"
      ]
     },
     "execution_count": 1,
     "metadata": {},
     "output_type": "execute_result"
    }
   ],
   "source": [
    "x = 3\n",
    "sentence = \"hello world!\"\n",
    "\n",
    "x"
   ]
  },
  {
   "cell_type": "markdown",
   "id": "97d304f4",
   "metadata": {},
   "source": [
    "## Accessing and Modifying Variables\n",
    "In Python, we have an abbreviated way to modify variables. For example, if we want to add `2` to a variable, we have two options:"
   ]
  },
  {
   "cell_type": "code",
   "execution_count": 2,
   "id": "ee16ced7",
   "metadata": {},
   "outputs": [
    {
     "name": "stdout",
     "output_type": "stream",
     "text": [
      "x is 5\n",
      "y is 5\n"
     ]
    }
   ],
   "source": [
    "x = 3\n",
    "x = x + 2\n",
    "print(\"x is\", x)\n",
    "\n",
    "y = 3\n",
    "y += 2\n",
    "print(\"y is\", y)"
   ]
  },
  {
   "cell_type": "markdown",
   "id": "4b3b66d3",
   "metadata": {},
   "source": [
    "We have equivalent ways to do subtraction (`-=`), multiplication (`*=`), division (`/=`), etc. There's little difference between writing something like `x = x/y` and `x /= y` except for the fact that it saves some typing, which becomes much more helpful when we get long variable names.\n",
    "\n",
    "**Exercise.** Below each example, write the short version for the following assignments (which are in comments). The first one is done for you."
   ]
  },
  {
   "cell_type": "code",
   "execution_count": 3,
   "id": "da536282",
   "metadata": {},
   "outputs": [
    {
     "name": "stdout",
     "output_type": "stream",
     "text": [
      "2.5 1.5\n"
     ]
    }
   ],
   "source": [
    "x = 4\n",
    "y = 2\n",
    "\n",
    "# 1. y = y / x (example is filled in below)\n",
    "y /= x\n",
    "\n",
    "# 2. y = y * 3\n",
    "y *= 3\n",
    "\n",
    "# 3. x = x - y\n",
    "x -= y\n",
    "\n",
    "print(x,y)\n",
    "\n",
    "assert((x, y) == (2.5, 1.5))"
   ]
  },
  {
   "cell_type": "markdown",
   "id": "59d0c470",
   "metadata": {},
   "source": [
    "\n",
    "## Array Data Structures\n",
    "\n",
    "In Python, you will have worry less about vectorized operations (though they're still much faster -- more on that in the scientific computation section). However, there's four main types of array data structures (collections) in base Python: lists, tuples, sets, and dictionaries.\n",
    "* `lists` are your standard array data structure in Python (being ordered and changeable). **These are the ones that you'll use the most**. You declare them using square brackets (`my_list = [1, 2, 3]`).\n",
    "* `tuples` are like `lists`, but they are **unchangeable**. They're helpful if you're optimizing code to maximize runtime, though you can in most cases just use `lists`. You declare them using parentheses. (`my_tuple = (1, 2, 3)`).\n",
    "* `sets` are **unordered**, **unchangeable** collections. Also, you can't have duplicates in them. Again, you can probably ignore the existence of sets and just use lists most of the time. You declare them using curly brackets (`my_set = {1, 2, 3}`).\n",
    "* `dictionaries` are an associative data structure, having a `key` and `value` tuple (if you've taken 104, they're `maps`/hash tables). Essentially, they're a `set` (the key), where each element in the set is paired with some value. As such, they're also defined using curly brackets (`my_dict = {1:\"one\", 2:\"two\", 3:\"three\"}`). You're most likely to use these to associate some input with an output, and as such are very useful.\n",
    "\n",
    "### A Foreword: Objects\n",
    "We've managed to avoid talking about objects in the context of R, but Python makes us understand what objects are (because **literally everything** in Python is an object, including packages and functions). Very abstractly, an `object` is a specially-defined data type, and it has the following two attributes (i.e. it stores the following information):\n",
    "* Data attributes: these store variables.\n",
    "* Methods: these are functions.\n",
    "\n",
    "To access data attributes, use `object_name.attribute` (note the lack of parentheses). To call a function from an object, use `object_name.function()` (note that these have parentheses). We'll see this soon when working with lists, which are, in fact, examples of objects.\n",
    "\n",
    "\n",
    "### Accessing Values\n",
    "To access the element at a specific index in a list, use square brackets (`first_list[1]` is `1`, for example). *Note Python is 0-indexed, like most other languages and unlike R.*  This means that `first_list[1]` is the *second* element in the lsit).\n",
    "\n",
    "To get a range of values, use the colon (`:`). Note that the range is inclusive of the first index, but not of the second (as is standard in Python)."
   ]
  },
  {
   "cell_type": "code",
   "execution_count": 4,
   "id": "1b67e27d",
   "metadata": {},
   "outputs": [
    {
     "data": {
      "text/plain": [
       "[1, 2]"
      ]
     },
     "execution_count": 4,
     "metadata": {},
     "output_type": "execute_result"
    }
   ],
   "source": [
    "first_list = [0, 1, 2, 3, 4, 5, 6]\n",
    "first_list[1:3] # note that 3 is NOT included"
   ]
  },
  {
   "cell_type": "markdown",
   "id": "569bc544",
   "metadata": {},
   "source": [
    "If you don't specify an index, Python will just go all the way to the beginning/end, depending on which index you omit (and if you omit both, it will give the entire array)."
   ]
  },
  {
   "cell_type": "code",
   "execution_count": 5,
   "id": "20499e93",
   "metadata": {},
   "outputs": [
    {
     "name": "stdout",
     "output_type": "stream",
     "text": [
      "[1, 2, 3, 4, 5, 6]\n",
      "[0, 1, 2]\n",
      "[0, 1, 2, 3, 4, 5, 6]\n"
     ]
    }
   ],
   "source": [
    "print(first_list[1:])\n",
    "print(first_list[:3])\n",
    "print(first_list[:])"
   ]
  },
  {
   "cell_type": "markdown",
   "id": "90fc86da",
   "metadata": {},
   "source": [
    "You can also give Python negative indices, which indicates the $i^{th}$-last index to retrieve. Contrast with R, where a negative number excluded that index."
   ]
  },
  {
   "cell_type": "code",
   "execution_count": 6,
   "id": "a439e391",
   "metadata": {
    "scrolled": false
   },
   "outputs": [
    {
     "name": "stdout",
     "output_type": "stream",
     "text": [
      "5\n",
      "[0, 1, 2, 3, 4, 5]\n",
      "[5, 6]\n"
     ]
    }
   ],
   "source": [
    "print(first_list[-2]) #  second last\n",
    "print(first_list[:-1]) #  go to second-last index\n",
    "print(first_list[-2:]) # start with second-last to the end"
   ]
  },
  {
   "cell_type": "markdown",
   "id": "922307c2",
   "metadata": {},
   "source": [
    "**Exercise**. Predict the output of the following print statements:"
   ]
  },
  {
   "cell_type": "code",
   "execution_count": 7,
   "id": "25192b1b",
   "metadata": {},
   "outputs": [
    {
     "name": "stdout",
     "output_type": "stream",
     "text": [
      "[3, 4]\n",
      "2\n",
      "0\n"
     ]
    }
   ],
   "source": [
    "first_list = [0, 1, 2, 3, 4, 5, 6]\n",
    "print(first_list[3:5])\n",
    "# prediction [3, 4]\n",
    "print(first_list[2])\n",
    "# prediction [2]\n",
    "print(first_list[0])\n",
    "# prediction [0]"
   ]
  },
  {
   "cell_type": "markdown",
   "id": "25bc089e",
   "metadata": {},
   "source": [
    "**Exercise**. Get the third, fourth, and fifth elements of `first_list`, and store it into `short_list`. Fill in the ellipses!"
   ]
  },
  {
   "cell_type": "code",
   "execution_count": 8,
   "id": "b897718f",
   "metadata": {},
   "outputs": [],
   "source": [
    "first_list = [0, 1, 2, 3, 4, 5, 6]\n",
    "short_list = first_list[2:5]\n",
    "# print (short_list)\n",
    "assert(short_list == [2,3,4])"
   ]
  },
  {
   "cell_type": "markdown",
   "id": "b35c8e80",
   "metadata": {},
   "source": [
    "## Useful List Functions\n",
    "To get the length of a list, use the `len()` function. For example, `len(first_list)` would be 7.\n",
    "\n",
    "We can also modify a list the same way as we access it. The following code adds 3 to the first element, and subtracts three for the last element."
   ]
  },
  {
   "cell_type": "code",
   "execution_count": 9,
   "id": "0e84a635",
   "metadata": {},
   "outputs": [
    {
     "name": "stdout",
     "output_type": "stream",
     "text": [
      "[3, 1, 2, 3, 4, 5, 3]\n"
     ]
    }
   ],
   "source": [
    "first_list = [0, 1, 2, 3, 4, 5, 6]\n",
    "first_list[0] += 3\n",
    "first_list[-1] -= 3\n",
    "\n",
    "print(first_list)"
   ]
  },
  {
   "cell_type": "markdown",
   "id": "87858c4b",
   "metadata": {},
   "source": [
    "**Exercise**: double the third value in `first_list`, then print the length of `first_list`. "
   ]
  },
  {
   "cell_type": "code",
   "execution_count": 10,
   "id": "be7af834",
   "metadata": {},
   "outputs": [
    {
     "name": "stdout",
     "output_type": "stream",
     "text": [
      "7\n",
      "[0, 1, 4, 3, 4, 5, 6]\n"
     ]
    }
   ],
   "source": [
    "first_list = [0, 1, 2, 3, 4, 5, 6]\n",
    "# double the third value in first_list\n",
    "first_list[2] *= 2 \n",
    "\n",
    "# print the length of first_list\n",
    "print(len(first_list))\n",
    "print(first_list)\n",
    "\n",
    "assert(first_list == [0, 1, 4, 3, 4, 5, 6])"
   ]
  },
  {
   "cell_type": "markdown",
   "id": "0de33cf9",
   "metadata": {},
   "source": [
    "The other function you're likely use on a list is `append()`, which adds an element to the end of the list. This is an example of calling a functions *from* an object, which looks like `first_list.append(7)` to add `7` to the end of the list. This is how most functions in Python will be used; `len()` is somewhat of an exception."
   ]
  },
  {
   "cell_type": "code",
   "execution_count": 11,
   "id": "a8167a27",
   "metadata": {},
   "outputs": [
    {
     "data": {
      "text/plain": [
       "[0, 1, 4, 3, 4, 5, 6, 7]"
      ]
     },
     "execution_count": 11,
     "metadata": {},
     "output_type": "execute_result"
    }
   ],
   "source": [
    "first_list.append(7) # notice the object.function() syntax\n",
    "first_list"
   ]
  },
  {
   "cell_type": "markdown",
   "id": "f7c790e0",
   "metadata": {},
   "source": [
    "**Exercise:** Starting with an empty list, `list_ex`, use `append()` to add 9, 8, 7 to the back, in that order. Then print `list_ex`."
   ]
  },
  {
   "cell_type": "code",
   "execution_count": 12,
   "id": "10733b78",
   "metadata": {},
   "outputs": [
    {
     "name": "stdout",
     "output_type": "stream",
     "text": [
      "[9, 8, 7]\n"
     ]
    }
   ],
   "source": [
    "list_ex = []\n",
    "list_ex.append(9)\n",
    "list_ex.append(8)\n",
    "list_ex.append(7)\n",
    "print(list_ex)\n",
    "\n",
    "assert(list_ex == [9,8,7])"
   ]
  },
  {
   "cell_type": "markdown",
   "id": "984871c2",
   "metadata": {},
   "source": [
    "## Control Flow\n",
    "Much like R, you have `if` statements, but there are three main differences:\n",
    "1. Rather than using curly brackets, you have colons and indentation.\n",
    "2. You don't put the `if` statement in parentheses.\n",
    "3. Instead of `else if`, you have the abbreviated `elif`.\n",
    "\n",
    "The following example should illustrate the differences:"
   ]
  },
  {
   "cell_type": "code",
   "execution_count": 13,
   "id": "e1359d17",
   "metadata": {},
   "outputs": [
    {
     "name": "stdout",
     "output_type": "stream",
     "text": [
      "x is negative!\n"
     ]
    }
   ],
   "source": [
    "x = -10\n",
    "\n",
    "if x > 0:\n",
    "    print('x is positive!')\n",
    "elif x == 0:\n",
    "    print('x is 0!')\n",
    "else:\n",
    "    print('x is negative!')"
   ]
  },
  {
   "cell_type": "markdown",
   "id": "bb5e64f2",
   "metadata": {},
   "source": [
    "## Looping\n",
    "We have `for` and `while` loops again, which look very similar to the ones you briefly encountered in R.\n",
    "\n",
    "### For Loops\n",
    "In Python, as in R, all `for` loops are \"for-each\" loops, meaning you have to go through a list. For example, the following chunk of code prints each element in `a_new_list` on a separate line. Note that like the `if` statements, you do not use parentheses around the `for` condition:"
   ]
  },
  {
   "cell_type": "code",
   "execution_count": 14,
   "id": "55956e88",
   "metadata": {
    "scrolled": true
   },
   "outputs": [
    {
     "name": "stdout",
     "output_type": "stream",
     "text": [
      "1\n",
      "fish\n",
      "2\n",
      "fish\n"
     ]
    }
   ],
   "source": [
    "a_new_list = [1, 'fish', 2, 'fish']\n",
    "for x in a_new_list:\n",
    "    print(x)"
   ]
  },
  {
   "cell_type": "markdown",
   "id": "a2790505",
   "metadata": {},
   "source": [
    "To repeat a task some number of times, use the `range()` function:"
   ]
  },
  {
   "cell_type": "code",
   "execution_count": 15,
   "id": "20a95716",
   "metadata": {
    "scrolled": true
   },
   "outputs": [
    {
     "name": "stdout",
     "output_type": "stream",
     "text": [
      "looping\n",
      "looping\n",
      "looping\n",
      "looping\n",
      "looping\n",
      "looping\n",
      "looping\n",
      "looping\n",
      "looping\n",
      "looping\n"
     ]
    }
   ],
   "source": [
    "# this loop will print 10 times\n",
    "for i in range(10):\n",
    "    print(\"looping\")"
   ]
  },
  {
   "cell_type": "markdown",
   "id": "2bc5cc0b",
   "metadata": {},
   "source": [
    "In fact, the `range(n)` function generates numbers from 0 to $n-1$ (so `range(10)` is actually 0, 1,..., 9). We can show this below:"
   ]
  },
  {
   "cell_type": "code",
   "execution_count": 16,
   "id": "e4d3621a",
   "metadata": {
    "scrolled": false
   },
   "outputs": [
    {
     "name": "stdout",
     "output_type": "stream",
     "text": [
      "0\n",
      "1\n",
      "2\n",
      "3\n",
      "4\n",
      "5\n",
      "6\n",
      "7\n",
      "8\n",
      "9\n"
     ]
    }
   ],
   "source": [
    "for i in range(10):\n",
    "    print(i)"
   ]
  },
  {
   "cell_type": "markdown",
   "id": "93e343eb",
   "metadata": {},
   "source": [
    "A common use of `range()` is to fill some list with numbers. For example:"
   ]
  },
  {
   "cell_type": "code",
   "execution_count": 17,
   "id": "d2b25acb",
   "metadata": {},
   "outputs": [
    {
     "name": "stdout",
     "output_type": "stream",
     "text": [
      "[0, 1, 2, 3, 4, 5, 6, 7, 8, 9]\n"
     ]
    }
   ],
   "source": [
    "a_list = []\n",
    "for i in range(10):\n",
    "    a_list.append(i)\n",
    "print(a_list)"
   ]
  },
  {
   "cell_type": "markdown",
   "id": "5d67b473",
   "metadata": {},
   "source": [
    "**Exercise**: Fill in the ellipses to calculate the mean of the elements in `nums`."
   ]
  },
  {
   "cell_type": "code",
   "execution_count": 18,
   "id": "f4d3339d",
   "metadata": {
    "scrolled": true
   },
   "outputs": [],
   "source": [
    "nums = [1,2,3,4,5,6]\n",
    "total = 0\n",
    "\n",
    "# you have two options here; either is ok\n",
    "for i in nums:\n",
    "    total += i\n",
    "\n",
    "mean_value = total / len(nums) # DO NOT fill in 6 (use a function instead)\n",
    "# print(mean_value)\n",
    "# assert(total == 3.5) I think this is a typo so I re-wrote the assert\n",
    "assert(mean_value == 3.5)"
   ]
  },
  {
   "cell_type": "markdown",
   "id": "c59bfc85",
   "metadata": {},
   "source": [
    "**Exercise**: Add every element from `a_new_list` onto the end of `num_list` using a for loop. Do *not* use the `range()` function. Refer to the previous examples if necessary!"
   ]
  },
  {
   "cell_type": "code",
   "execution_count": 19,
   "id": "425ab55c",
   "metadata": {},
   "outputs": [],
   "source": [
    "a_new_list = [1, 'fish', 2, 'fish']\n",
    "num_list = [0,1,2,3,4,5,6]\n",
    "\n",
    "## Put your code here\n",
    "for i in a_new_list:\n",
    "    num_list.append(i)\n",
    "\n",
    "# print(num_list)\n",
    "assert(num_list == [0,1,2,3,4,5,6,1,'fish',2,'fish'])"
   ]
  },
  {
   "cell_type": "markdown",
   "id": "c862199c",
   "metadata": {},
   "source": [
    "**Exercise**: Same as before, add every element from `a_new_list` onto the end of `num_list` using a for loop. However, this time, *use* the `range()` function. Hint: for this to work, you'll have to get the length of `a_new_list`."
   ]
  },
  {
   "cell_type": "code",
   "execution_count": 20,
   "id": "89f0fa47",
   "metadata": {},
   "outputs": [],
   "source": [
    "a_new_list = [1, 'fish', 2, 'fish']\n",
    "num_list = [0,1,2,3,4,5,6]\n",
    "\n",
    "## Put your code here\n",
    "for i in range(len(a_new_list)):\n",
    "    num_list.append(a_new_list[i])\n",
    "\n",
    "# print(num_list)\n",
    "assert(num_list == [0,1,2,3,4,5,6,1,'fish',2,'fish'])"
   ]
  },
  {
   "cell_type": "markdown",
   "id": "56520e96",
   "metadata": {},
   "source": [
    "**Exercise**: Given the following list of strings `string_list`, copy all strings that start with the letter \"A\" into `starts_A_list` using `append()`. Hint: you can get the first letter of a string just by treating it as an array of characters."
   ]
  },
  {
   "cell_type": "code",
   "execution_count": 21,
   "id": "4d02d7a3",
   "metadata": {},
   "outputs": [
    {
     "name": "stdout",
     "output_type": "stream",
     "text": [
      "T\n"
     ]
    }
   ],
   "source": [
    "# example of string indexing\n",
    "my_string = \"Tree\"\n",
    "print(my_string[0])"
   ]
  },
  {
   "cell_type": "code",
   "execution_count": 22,
   "id": "0c74b048",
   "metadata": {},
   "outputs": [],
   "source": [
    "string_list = [\"Apple\", \"Banana\", \"Alligator\", \"Anteater\", \"Potato\", \"Water\", \"Aardvark\"]\n",
    "starts_A_list = []\n",
    "\n",
    "for i in string_list:\n",
    "    if i[0]==\"A\":\n",
    "        starts_A_list.append(i)\n",
    "\n",
    "# print(starts_A_list)\n",
    "assert(starts_A_list == [\"Apple\", \"Alligator\", \"Anteater\", \"Aardvark\"])"
   ]
  },
  {
   "cell_type": "markdown",
   "id": "5ecefe59",
   "metadata": {},
   "source": [
    "### While Loops\n",
    "While loops are identical to those in R, barring the Python syntax."
   ]
  },
  {
   "cell_type": "code",
   "execution_count": 23,
   "id": "84f69c5b",
   "metadata": {
    "scrolled": true
   },
   "outputs": [
    {
     "name": "stdout",
     "output_type": "stream",
     "text": [
      "2\n",
      "4\n",
      "8\n",
      "16\n",
      "32\n",
      "64\n",
      "128\n",
      "256\n"
     ]
    }
   ],
   "source": [
    "i = 1\n",
    "while i < 256:\n",
    "    i *= 2  # note: this is equivalent to writing i = i * 2\n",
    "    print(i)"
   ]
  },
  {
   "cell_type": "markdown",
   "id": "9d045f09",
   "metadata": {},
   "source": [
    "**Exercise**: Given a list of numbers `some_nums`, add the numbers to `total` until `total` becomes greater than 100, then print `total`."
   ]
  },
  {
   "cell_type": "code",
   "execution_count": 24,
   "id": "8e29898b",
   "metadata": {
    "scrolled": true
   },
   "outputs": [],
   "source": [
    "some_nums = [20, -3, 54, 4, -10, 23, 3, 33, 23]\n",
    "total = 0 # what should total start out as?\n",
    "i = 0\n",
    "while total <= 100:\n",
    "    total += some_nums[i]\n",
    "    i += 1\n",
    "# print(total)\n",
    "assert(total == 124)"
   ]
  },
  {
   "cell_type": "markdown",
   "id": "59aeef33",
   "metadata": {},
   "source": [
    "## Writing Functions\n",
    "Writing functions in Python uses the `def` keyword. Unlike R, you don't save the function to some variable; rather, it follows the `def func_name(params)` template. Note that like R, you don't have typed parameters or outputs. Calling functions is the same syntax as in R and in most other languages, illustrated below"
   ]
  },
  {
   "cell_type": "code",
   "execution_count": 25,
   "id": "d019a66a",
   "metadata": {},
   "outputs": [
    {
     "data": {
      "text/plain": [
       "33"
      ]
     },
     "execution_count": 25,
     "metadata": {},
     "output_type": "execute_result"
    }
   ],
   "source": [
    "# defines a function called sum_two_numbers\n",
    "def sum_two_numbers(a, b):\n",
    "    return a + b\n",
    "\n",
    "sum_two_numbers(10, 23)"
   ]
  },
  {
   "cell_type": "markdown",
   "id": "1c3b5596",
   "metadata": {},
   "source": [
    "**Exercise.** Fill out the following code to write a function that doubles every element in a list. (You cannot simply write `nums * 2` in Python, at least not for now)."
   ]
  },
  {
   "cell_type": "code",
   "execution_count": 26,
   "id": "86405d7a",
   "metadata": {},
   "outputs": [],
   "source": [
    "my_nums = [5,4,3,2,1]\n",
    "\n",
    "def double_every_number(nums):\n",
    "    results = nums\n",
    "    for i in range(len(nums)):\n",
    "        # do something here\n",
    "        results[i] = nums[i]*2\n",
    "    return results\n",
    "\n",
    "# print(double_every_number(my_nums))\n",
    "assert(double_every_number(my_nums) == [10, 8, 6, 4, 2])"
   ]
  },
  {
   "cell_type": "markdown",
   "id": "0bedd1e8",
   "metadata": {},
   "source": [
    "**Exercise**. Write a function called `max(nums)`, which returns the largest element the `nums` array. (Hint: you'll have to use a for loop)."
   ]
  },
  {
   "cell_type": "code",
   "execution_count": 27,
   "id": "de5e20f8",
   "metadata": {},
   "outputs": [],
   "source": [
    "my_nums = [1,4,2,5,3]\n",
    "\n",
    "# define and write your function here\n",
    "def max(nums):\n",
    "    m = 0\n",
    "    for i in nums:\n",
    "        if i>m:\n",
    "            m = i\n",
    "    return m\n",
    "\n",
    "# print(max(my_nums))\n",
    "assert(max(my_nums) == 5)"
   ]
  },
  {
   "cell_type": "markdown",
   "id": "cc03724b",
   "metadata": {},
   "source": [
    "## Print Formatting\n",
    "Formatting your print statements is a super nice way to make your print statements readable. For example, you might be accustomed to doing something like this to print:"
   ]
  },
  {
   "cell_type": "code",
   "execution_count": 28,
   "id": "4b62fa25",
   "metadata": {},
   "outputs": [
    {
     "name": "stdout",
     "output_type": "stream",
     "text": [
      "bananas has 7 letters in it!\n"
     ]
    }
   ],
   "source": [
    "def count_letters(word):\n",
    "    word_len = len(word)\n",
    "    print(word, \"has\", word_len, \"letters in it!\")\n",
    "    \n",
    "count_letters(\"bananas\")"
   ]
  },
  {
   "cell_type": "markdown",
   "id": "7029d811",
   "metadata": {},
   "source": [
    "This is a little difficult to read and is a little annoying to type, but luckily there's a better way to print. If you put `f` in front of the string (i.e. single/double quotes) and put variables in curly braces, it automatically substitutes that variable in the string! Here's a neater way to write the above function:"
   ]
  },
  {
   "cell_type": "code",
   "execution_count": 29,
   "id": "5e885b7e",
   "metadata": {
    "scrolled": true
   },
   "outputs": [
    {
     "name": "stdout",
     "output_type": "stream",
     "text": [
      "bananas has 7 letters in it!\n"
     ]
    }
   ],
   "source": [
    "def count_letters_2(word):\n",
    "    word_len = len(word)\n",
    "    print(f\"{word} has {word_len} letters in it!\")\n",
    "    \n",
    "count_letters_2(\"bananas\")"
   ]
  },
  {
   "cell_type": "markdown",
   "id": "ab3cd955",
   "metadata": {},
   "source": [
    "**Exercise.** Write a function, `print_args(a, b)` that prints `a` and `b` using the string formatting trick. For example, `print_args(\"red\", \"blue\")` will print `a is red, b is blue`."
   ]
  },
  {
   "cell_type": "code",
   "execution_count": 30,
   "id": "807cc425",
   "metadata": {},
   "outputs": [],
   "source": [
    "# write your function here\n",
    "def print_args(a, b):\n",
    "    print(f\"a is {a}, b is {b}\")\n",
    "\n",
    "# print_args(\"red\", \"blue\")"
   ]
  },
  {
   "cell_type": "markdown",
   "id": "03b177db",
   "metadata": {},
   "source": [
    "## Extra Looping\n",
    "Python has some special features that make looping easier. Here's a few ways that save the most time:\n",
    "\n",
    "### enumerate\n",
    "`enumerate` allows you to simultaneous loop through the index as well as the elements of a list, which is helpful if you want to track along another array. Just remember that the order is `index`, `object` in the for loop. For example:"
   ]
  },
  {
   "cell_type": "code",
   "execution_count": 31,
   "id": "bceac560",
   "metadata": {},
   "outputs": [
    {
     "name": "stdout",
     "output_type": "stream",
     "text": [
      "0: this fruit is a red apple\n",
      "1: this fruit is a yellow banana\n",
      "2: this fruit is a brown pear\n",
      "3: this fruit is a orange orange\n",
      "4: this fruit is a purple plum\n"
     ]
    }
   ],
   "source": [
    "colors = [\"red\", \"yellow\", \"brown\", \"orange\", \"purple\"]\n",
    "fruits = [\"apple\", \"banana\", \"pear\", \"orange\", \"plum\"]\n",
    "\n",
    "# i is index, fruit is object\n",
    "for i, fruit in enumerate(fruits):\n",
    "    print(f\"{i}: this fruit is a {colors[i]} {fruit}\")"
   ]
  },
  {
   "cell_type": "markdown",
   "id": "296c1b3c",
   "metadata": {},
   "source": [
    "### zip\n",
    "`zip` allows you to loop through two lists of the same size simultaneously. It's very similar to using `enumerate` in its usage. For example:"
   ]
  },
  {
   "cell_type": "code",
   "execution_count": 32,
   "id": "fd0bda6d",
   "metadata": {},
   "outputs": [
    {
     "name": "stdout",
     "output_type": "stream",
     "text": [
      "apple is red-colored!\n",
      "banana is yellow-colored!\n",
      "pear is brown-colored!\n",
      "orange is orange-colored!\n",
      "plum is purple-colored!\n"
     ]
    }
   ],
   "source": [
    "for color, fruit in zip(colors, fruits):\n",
    "    print(f\"{fruit} is {color}-colored!\")"
   ]
  },
  {
   "cell_type": "markdown",
   "id": "a770f514",
   "metadata": {},
   "source": [
    "**Exercise**. Write a function, `add_to_list(from_list, to_list)`, to do the following:\n",
    "1. Check that `from_list` and `to_list` are the same length. Do nothing if they are not the same length.\n",
    "2. Using `enumerate`, add every element in `from_list` to `to_list`. *Use both the index and the element in `from_list`*.\n",
    "3. Return `to_list`. We need to do this because `to_list` won't actually be modified when the function ends.\n",
    "\n",
    "For example, `add_to_list([0,1], [2,3])` should be `[2,4]`."
   ]
  },
  {
   "cell_type": "code",
   "execution_count": 33,
   "id": "79b9f192",
   "metadata": {},
   "outputs": [],
   "source": [
    "# Write the add_to_list function here\n",
    "def add_to_list(from_list, to_list):\n",
    "    if (len(from_list)==len(to_list)):\n",
    "        for i, element in enumerate(from_list):\n",
    "            to_list[i] += element\n",
    "        return to_list\n",
    "    else:\n",
    "        return from_list\n",
    "\n",
    "# print(add_to_list([0,1,2,3,4], [5,6,7,8,9]))\n",
    "assert(add_to_list([0,1,2,3,4], [5,6,7,8,9]) == [5,7,9,11,13])"
   ]
  },
  {
   "cell_type": "markdown",
   "id": "a6388d73",
   "metadata": {},
   "source": [
    "# Scientific Programming (NumPy)\n",
    "Python on its own doesn't have too much in the way of scientific/statistical programming the way R does, but thankfully it has a million packages that implement these super-useful functionalities.\n",
    "\n",
    "## Importing Packages\n",
    "Importing packages uses the `import` keyword (vs. `library()` in R). Let's import the first package we're going to use, `numpy`. We'll use the `as` keyword to call it `np` to save typing, which is a standard abbreviation."
   ]
  },
  {
   "cell_type": "code",
   "execution_count": 34,
   "id": "528c267e",
   "metadata": {},
   "outputs": [],
   "source": [
    "import numpy as np"
   ]
  },
  {
   "cell_type": "markdown",
   "id": "cdf6af3a",
   "metadata": {},
   "source": [
    "As mentioned previously, you have to prefix everything from `numpy` with `np`. For example, `numpy` includes the constant `pi` and the sine function (these are `data attributes` and `functions` within the `numpy` object, respectively). Here's how you would find the sine of 90 degrees ($\\pi/2$ radians), for example."
   ]
  },
  {
   "cell_type": "code",
   "execution_count": 35,
   "id": "589572ae",
   "metadata": {},
   "outputs": [
    {
     "data": {
      "text/plain": [
       "1.0"
      ]
     },
     "execution_count": 35,
     "metadata": {},
     "output_type": "execute_result"
    }
   ],
   "source": [
    "np.sin(np.pi/2)\n",
    "# if we had simply typed import numpy, we would have to type a bit more to get the same result:\n",
    "# numpy.sin(numpy.pi)"
   ]
  },
  {
   "cell_type": "markdown",
   "id": "f52a57ac",
   "metadata": {},
   "source": [
    "**The two main takeaways regarding packages are**:\n",
    "\n",
    "1. You must `import` them before using them, and\n",
    "2. You have to put the package name and a period (`np.`) in front of anything that the package contains (in this case, `sin()` and `pi`), since both of these come from the numpy package that we're calling `np`.\n",
    "\n",
    "You also might see more complicated ways import packages. For example, a very common way to import the plotting package `matplotlib` is as follows:"
   ]
  },
  {
   "cell_type": "code",
   "execution_count": 36,
   "id": "b3bdf9cd",
   "metadata": {},
   "outputs": [],
   "source": [
    "import matplotlib.pyplot as plt"
   ]
  },
  {
   "cell_type": "markdown",
   "id": "3176e1e4",
   "metadata": {},
   "source": [
    "This imports the specific plotting functionality (`pyplot`) from the larger `matplotlib` package, since we don't want to import too many things at once. \n",
    "\n",
    "One last way to import a specific functionality from an object is to use the `from` keyword. This lets you use skip putting the package name in front. Again, you typically only want to do this if you want a few specific functions from a package. For example:"
   ]
  },
  {
   "cell_type": "code",
   "execution_count": 37,
   "id": "1dec66f7",
   "metadata": {},
   "outputs": [
    {
     "data": {
      "text/plain": [
       "1.0"
      ]
     },
     "execution_count": 37,
     "metadata": {},
     "output_type": "execute_result"
    }
   ],
   "source": [
    "# note that we already imported numpy, so this example is just to show the syntax\n",
    "# in reality you should just import all of numpy\n",
    "from numpy import pi\n",
    "from numpy import sin\n",
    "# instead of typing np.sin(np.pi/2), we can just write:\n",
    "sin(pi/2)"
   ]
  },
  {
   "cell_type": "markdown",
   "id": "dbd51afb",
   "metadata": {},
   "source": [
    "## Numpy Arrays\n",
    "While `numpy` has a bunch of useful functions, one particular draw to `numpy` is the array structure that it implements, called the `ndarray`. It has the following differences compared to a normal list:\n",
    "\n",
    "* Fixed size (no appending).\n",
    "* Its contents must be the same data type.\n",
    "* **Vectorization!**\n",
    "\n",
    "First, let's look at an numpy array. You can declare one by calling `np.array` and passing it a Python list (which basically takes the list into an `ndarray`)."
   ]
  },
  {
   "cell_type": "code",
   "execution_count": 38,
   "id": "c7fe3f5e",
   "metadata": {},
   "outputs": [
    {
     "data": {
      "text/plain": [
       "array([0, 1, 2])"
      ]
     },
     "execution_count": 38,
     "metadata": {},
     "output_type": "execute_result"
    }
   ],
   "source": [
    "nd_nums = np.array([0, 1, 2])\n",
    "nd_nums"
   ]
  },
  {
   "cell_type": "markdown",
   "id": "4b3bdd60",
   "metadata": {},
   "source": [
    "As previously alluded to, these arrays are vectorized, so we can treat them similarly as in R."
   ]
  },
  {
   "cell_type": "code",
   "execution_count": 39,
   "id": "6c3f2416",
   "metadata": {},
   "outputs": [
    {
     "name": "stdout",
     "output_type": "stream",
     "text": [
      "[1 2 3]\n",
      "[ 0 10 20]\n"
     ]
    }
   ],
   "source": [
    "nd_nums = np.array([0, 1, 2])\n",
    "print(nd_nums + 1)\n",
    "print(nd_nums * 10)\n",
    "\n",
    "# this doesn't work -- uncomment this and see what happens!\n",
    "# [0, 1, 2] + 1\n",
    "# [0, 1, 2] * 10"
   ]
  },
  {
   "cell_type": "markdown",
   "id": "b4a0106d",
   "metadata": {},
   "source": [
    "**Exercise**. We're returning to boolean indexing! Given a numpy array of numbers, fill in the dots to remove all negative numbers:\n",
    "\n",
    "1. Determine if each element is either positive or negative (treat 0 as positive). Fill in `positive_mask` with this information.\n",
    "2. Use the mask to remove the negative numbers in `nd_nums`."
   ]
  },
  {
   "cell_type": "code",
   "execution_count": 40,
   "id": "82738d6c",
   "metadata": {},
   "outputs": [],
   "source": [
    "nd_nums = np.array([5, -2, -1, 0, 6, 1])\n",
    "\n",
    "positive_mask = nd_nums>=0\n",
    "nd_nums_positive = nd_nums[positive_mask]\n",
    "\n",
    "# print(nd_nums_positive)\n",
    "assert(np.all(nd_nums_positive == [5, 0, 6, 1]))"
   ]
  },
  {
   "cell_type": "markdown",
   "id": "5fb3d9cc",
   "metadata": {},
   "source": [
    "**Exercise.** (Removing NA values from a 1D structure) Use `np.isnan()` to remove NA (`np.nan`) values from `nd_nums_with_NAs`. As in R, you would do the following steps:\n",
    "\n",
    "1. Create a boolean mask using `np.isnan()` to detect which values are NA.\n",
    "2. Flip the truth values of the mask so that NA values are false, and everything else is true. In Python, use the `~` symbol in place of the exclamation mark.\n",
    "3. Apply the mask as the index to `nd_nums_with_NAs` and store the result.\n",
    "\n",
    "See the previous example for the syntax!"
   ]
  },
  {
   "cell_type": "code",
   "execution_count": 41,
   "id": "93feed62",
   "metadata": {},
   "outputs": [],
   "source": [
    "nd_nums_with_NAs = np.array([5, -2, np.nan])\n",
    "nd_nums_with_NAs = nd_nums_with_NAs[~np.isnan(nd_nums_with_NAs)]\n",
    "# print (nd_nums_with_NAs)\n",
    "assert(np.all(nd_nums_with_NAs == [5, -2]))"
   ]
  },
  {
   "cell_type": "markdown",
   "id": "55b7bb6c",
   "metadata": {},
   "source": [
    "Another benefit is that you get extra math functions that you can apply on the arrays. For example, you can quickly find the mean and variance of the values (all of these have equivalent `np.` functions) without having to write those functions yourself."
   ]
  },
  {
   "cell_type": "code",
   "execution_count": 42,
   "id": "1174009e",
   "metadata": {
    "scrolled": true
   },
   "outputs": [
    {
     "name": "stdout",
     "output_type": "stream",
     "text": [
      "1.5\n",
      "8.916666666666666\n"
     ]
    }
   ],
   "source": [
    "nd_nums = np.array([5, -2, -1, 0, 6, 1])\n",
    "\n",
    "print(nd_nums.mean())\n",
    "print(nd_nums.var())\n",
    "\n",
    "### NOTE: the following are equivalent to the above, and they can take in a regular list as well\n",
    "### although calling these on a list is MUCH slower\n",
    "# np.mean(nums)\n",
    "# np.var(nums)"
   ]
  },
  {
   "cell_type": "markdown",
   "id": "4d96928f",
   "metadata": {},
   "source": [
    "There's not too much else you need to know about `numpy` arrays, since most of your data will be in a **data frame**. The next tutorial will go in depth about these. When you're done, go back to the top of tutorial, restart the kernel and run all the code again, and make sure you don't get any errors!"
   ]
  }
 ],
 "metadata": {
  "kernelspec": {
   "display_name": "Python 3 (ipykernel)",
   "language": "python",
   "name": "python3"
  },
  "language_info": {
   "codemirror_mode": {
    "name": "ipython",
    "version": 3
   },
   "file_extension": ".py",
   "mimetype": "text/x-python",
   "name": "python",
   "nbconvert_exporter": "python",
   "pygments_lexer": "ipython3",
   "version": "3.9.7"
  }
 },
 "nbformat": 4,
 "nbformat_minor": 5
}
